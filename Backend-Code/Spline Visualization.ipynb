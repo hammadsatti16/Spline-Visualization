{
 "cells": [
  {
   "cell_type": "code",
   "execution_count": 77,
   "id": "e5d84d40",
   "metadata": {},
   "outputs": [],
   "source": [
    "import cv2\n",
    "import numpy as np\n",
    "import PIL\n",
    "import json\n",
    "import scipy.interpolate as si"
   ]
  },
  {
   "cell_type": "code",
   "execution_count": 78,
   "id": "1b7a3213",
   "metadata": {},
   "outputs": [],
   "source": [
    "img = cv2.imread(\"./dog.jpg\")\n",
    "f = open(\"./dog.json\")\n",
    "data = json.load(f)\n",
    "annotation = data[\"annotations\"][0][\"shape\"]"
   ]
  },
  {
   "cell_type": "code",
   "execution_count": 80,
   "id": "301f92ed",
   "metadata": {},
   "outputs": [],
   "source": [
    "def get_tck_param(annoation):\n",
    "    for key, values in annotation.items():\n",
    "            if key ==\"t\":\n",
    "                t = values\n",
    "            elif key == \"c\":\n",
    "                c = values\n",
    "            elif key == \"k\":\n",
    "                k = values\n",
    "    return t,c,k"
   ]
  },
  {
   "cell_type": "code",
   "execution_count": 81,
   "id": "7f284de7",
   "metadata": {},
   "outputs": [],
   "source": [
    "def calculate_spine_params(c, n=100, degree=k):\n",
    "    ci = np.asarray(c)\n",
    "    count = ci.shape[0]\n",
    "    degree = np.clip(degree,1,count-1)\n",
    "    # Knot vector\n",
    "    knot_v = np.array([0]*degree + list(range(count-degree+1)) + [count-degree]*degree,dtype='int')\n",
    "    # Query range\n",
    "    query_r = np.linspace(0,(count-degree),n)\n",
    "    return np.array(si.splev(query_r, (knot_v,ci.T,degree))).T"
   ]
  },
  {
   "cell_type": "code",
   "execution_count": 82,
   "id": "c2565a36",
   "metadata": {},
   "outputs": [],
   "source": [
    "def image_spline(c):\n",
    "    points = np.array(c, np.int32)\n",
    "    for pt in points:\n",
    "        cv2.circle(img,(pt[0],pt[1]), 5, (0,255,0), -1)\n",
    "    points = points.reshape((-1, 1, 2))\n",
    "    color = (255, 0, 0)\n",
    "    thickness = 1\n",
    "    cv2.polylines(img, [points],False, color, thickness,lineType = cv2.LINE_AA)\n",
    "    p = calculate_spine_params(points,n=100)[:,0,:]    \n",
    "    color = (0, 0, 255)\n",
    "    thickness = 2\n",
    "    cv2.polylines(img, [p.astype(np.int32)],False, color, thickness,  lineType = cv2.LINE_AA)\n",
    "    return img"
   ]
  },
  {
   "cell_type": "code",
   "execution_count": 83,
   "id": "2a34f07f",
   "metadata": {},
   "outputs": [],
   "source": [
    "t,c,k = get_tck_param(annotation)\n",
    "spine_param = calculate_spine_params(c, n=100, degree=k)\n",
    "img = image_spline(c)\n",
    "cv2.imshow(\"Result spline image\",img)    \n",
    "cv2.waitKey(0)  \n",
    "cv2.destroyAllWindows()"
   ]
  },
  {
   "cell_type": "code",
   "execution_count": null,
   "id": "1ce7077f",
   "metadata": {},
   "outputs": [],
   "source": []
  }
 ],
 "metadata": {
  "kernelspec": {
   "display_name": "Python 3 (ipykernel)",
   "language": "python",
   "name": "python3"
  },
  "language_info": {
   "codemirror_mode": {
    "name": "ipython",
    "version": 3
   },
   "file_extension": ".py",
   "mimetype": "text/x-python",
   "name": "python",
   "nbconvert_exporter": "python",
   "pygments_lexer": "ipython3",
   "version": "3.9.7"
  }
 },
 "nbformat": 4,
 "nbformat_minor": 5
}
